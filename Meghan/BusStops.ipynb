{
 "cells": [
  {
   "cell_type": "markdown",
   "metadata": {},
   "source": [
    "**Since we are trying to find out the most fun neighborhood in Pittsburgh to drive in**, we want the least amount of bus stops! Who wants to stop for a bus or deal with people walking across the street (or rude bus drivers...)? Here is a dataset that is updated monthly that contains the bus stop uses throughout Pittsburgh.\n",
    "\n",
    "My goal is to find out which neighborhood has the lowest amount of stop usage. Since this is focused on which neighborhood is just the most \"fun\" to drive in, I am not counting the fact that there are probably more drivers since less people use the bus. I am simply focusing on the enjoyment of driving with as little stops as possible."
   ]
  },
  {
   "cell_type": "markdown",
   "metadata": {},
   "source": [
    "First I am going to import pandas, read in, and print the data.\n",
    "Doing this we can see the data in which I will determine which neighborhood has the least amount of people getting on the bus."
   ]
  },
  {
   "cell_type": "code",
   "execution_count": 2,
   "metadata": {},
   "outputs": [
    {
     "ename": "URLError",
     "evalue": "<urlopen error [SSL: CERTIFICATE_VERIFY_FAILED] certificate verify failed: unable to get local issuer certificate (_ssl.c:1007)>",
     "output_type": "error",
     "traceback": [
      "\u001b[0;31m---------------------------------------------------------------------------\u001b[0m",
      "\u001b[0;31mSSLCertVerificationError\u001b[0m                  Traceback (most recent call last)",
      "File \u001b[0;32m/Library/Frameworks/Python.framework/Versions/3.10/lib/python3.10/urllib/request.py:1348\u001b[0m, in \u001b[0;36mAbstractHTTPHandler.do_open\u001b[0;34m(self, http_class, req, **http_conn_args)\u001b[0m\n\u001b[1;32m   1347\u001b[0m \u001b[39mtry\u001b[39;00m:\n\u001b[0;32m-> 1348\u001b[0m     h\u001b[39m.\u001b[39;49mrequest(req\u001b[39m.\u001b[39;49mget_method(), req\u001b[39m.\u001b[39;49mselector, req\u001b[39m.\u001b[39;49mdata, headers,\n\u001b[1;32m   1349\u001b[0m               encode_chunked\u001b[39m=\u001b[39;49mreq\u001b[39m.\u001b[39;49mhas_header(\u001b[39m'\u001b[39;49m\u001b[39mTransfer-encoding\u001b[39;49m\u001b[39m'\u001b[39;49m))\n\u001b[1;32m   1350\u001b[0m \u001b[39mexcept\u001b[39;00m \u001b[39mOSError\u001b[39;00m \u001b[39mas\u001b[39;00m err: \u001b[39m# timeout error\u001b[39;00m\n",
      "File \u001b[0;32m/Library/Frameworks/Python.framework/Versions/3.10/lib/python3.10/http/client.py:1283\u001b[0m, in \u001b[0;36mHTTPConnection.request\u001b[0;34m(self, method, url, body, headers, encode_chunked)\u001b[0m\n\u001b[1;32m   1282\u001b[0m \u001b[39m\u001b[39m\u001b[39m\"\"\"Send a complete request to the server.\"\"\"\u001b[39;00m\n\u001b[0;32m-> 1283\u001b[0m \u001b[39mself\u001b[39;49m\u001b[39m.\u001b[39;49m_send_request(method, url, body, headers, encode_chunked)\n",
      "File \u001b[0;32m/Library/Frameworks/Python.framework/Versions/3.10/lib/python3.10/http/client.py:1329\u001b[0m, in \u001b[0;36mHTTPConnection._send_request\u001b[0;34m(self, method, url, body, headers, encode_chunked)\u001b[0m\n\u001b[1;32m   1328\u001b[0m     body \u001b[39m=\u001b[39m _encode(body, \u001b[39m'\u001b[39m\u001b[39mbody\u001b[39m\u001b[39m'\u001b[39m)\n\u001b[0;32m-> 1329\u001b[0m \u001b[39mself\u001b[39;49m\u001b[39m.\u001b[39;49mendheaders(body, encode_chunked\u001b[39m=\u001b[39;49mencode_chunked)\n",
      "File \u001b[0;32m/Library/Frameworks/Python.framework/Versions/3.10/lib/python3.10/http/client.py:1278\u001b[0m, in \u001b[0;36mHTTPConnection.endheaders\u001b[0;34m(self, message_body, encode_chunked)\u001b[0m\n\u001b[1;32m   1277\u001b[0m     \u001b[39mraise\u001b[39;00m CannotSendHeader()\n\u001b[0;32m-> 1278\u001b[0m \u001b[39mself\u001b[39;49m\u001b[39m.\u001b[39;49m_send_output(message_body, encode_chunked\u001b[39m=\u001b[39;49mencode_chunked)\n",
      "File \u001b[0;32m/Library/Frameworks/Python.framework/Versions/3.10/lib/python3.10/http/client.py:1038\u001b[0m, in \u001b[0;36mHTTPConnection._send_output\u001b[0;34m(self, message_body, encode_chunked)\u001b[0m\n\u001b[1;32m   1037\u001b[0m \u001b[39mdel\u001b[39;00m \u001b[39mself\u001b[39m\u001b[39m.\u001b[39m_buffer[:]\n\u001b[0;32m-> 1038\u001b[0m \u001b[39mself\u001b[39;49m\u001b[39m.\u001b[39;49msend(msg)\n\u001b[1;32m   1040\u001b[0m \u001b[39mif\u001b[39;00m message_body \u001b[39mis\u001b[39;00m \u001b[39mnot\u001b[39;00m \u001b[39mNone\u001b[39;00m:\n\u001b[1;32m   1041\u001b[0m \n\u001b[1;32m   1042\u001b[0m     \u001b[39m# create a consistent interface to message_body\u001b[39;00m\n",
      "File \u001b[0;32m/Library/Frameworks/Python.framework/Versions/3.10/lib/python3.10/http/client.py:976\u001b[0m, in \u001b[0;36mHTTPConnection.send\u001b[0;34m(self, data)\u001b[0m\n\u001b[1;32m    975\u001b[0m \u001b[39mif\u001b[39;00m \u001b[39mself\u001b[39m\u001b[39m.\u001b[39mauto_open:\n\u001b[0;32m--> 976\u001b[0m     \u001b[39mself\u001b[39;49m\u001b[39m.\u001b[39;49mconnect()\n\u001b[1;32m    977\u001b[0m \u001b[39melse\u001b[39;00m:\n",
      "File \u001b[0;32m/Library/Frameworks/Python.framework/Versions/3.10/lib/python3.10/http/client.py:1455\u001b[0m, in \u001b[0;36mHTTPSConnection.connect\u001b[0;34m(self)\u001b[0m\n\u001b[1;32m   1453\u001b[0m     server_hostname \u001b[39m=\u001b[39m \u001b[39mself\u001b[39m\u001b[39m.\u001b[39mhost\n\u001b[0;32m-> 1455\u001b[0m \u001b[39mself\u001b[39m\u001b[39m.\u001b[39msock \u001b[39m=\u001b[39m \u001b[39mself\u001b[39;49m\u001b[39m.\u001b[39;49m_context\u001b[39m.\u001b[39;49mwrap_socket(\u001b[39mself\u001b[39;49m\u001b[39m.\u001b[39;49msock,\n\u001b[1;32m   1456\u001b[0m                                       server_hostname\u001b[39m=\u001b[39;49mserver_hostname)\n",
      "File \u001b[0;32m/Library/Frameworks/Python.framework/Versions/3.10/lib/python3.10/ssl.py:513\u001b[0m, in \u001b[0;36mSSLContext.wrap_socket\u001b[0;34m(self, sock, server_side, do_handshake_on_connect, suppress_ragged_eofs, server_hostname, session)\u001b[0m\n\u001b[1;32m    507\u001b[0m \u001b[39mdef\u001b[39;00m \u001b[39mwrap_socket\u001b[39m(\u001b[39mself\u001b[39m, sock, server_side\u001b[39m=\u001b[39m\u001b[39mFalse\u001b[39;00m,\n\u001b[1;32m    508\u001b[0m                 do_handshake_on_connect\u001b[39m=\u001b[39m\u001b[39mTrue\u001b[39;00m,\n\u001b[1;32m    509\u001b[0m                 suppress_ragged_eofs\u001b[39m=\u001b[39m\u001b[39mTrue\u001b[39;00m,\n\u001b[1;32m    510\u001b[0m                 server_hostname\u001b[39m=\u001b[39m\u001b[39mNone\u001b[39;00m, session\u001b[39m=\u001b[39m\u001b[39mNone\u001b[39;00m):\n\u001b[1;32m    511\u001b[0m     \u001b[39m# SSLSocket class handles server_hostname encoding before it calls\u001b[39;00m\n\u001b[1;32m    512\u001b[0m     \u001b[39m# ctx._wrap_socket()\u001b[39;00m\n\u001b[0;32m--> 513\u001b[0m     \u001b[39mreturn\u001b[39;00m \u001b[39mself\u001b[39;49m\u001b[39m.\u001b[39;49msslsocket_class\u001b[39m.\u001b[39;49m_create(\n\u001b[1;32m    514\u001b[0m         sock\u001b[39m=\u001b[39;49msock,\n\u001b[1;32m    515\u001b[0m         server_side\u001b[39m=\u001b[39;49mserver_side,\n\u001b[1;32m    516\u001b[0m         do_handshake_on_connect\u001b[39m=\u001b[39;49mdo_handshake_on_connect,\n\u001b[1;32m    517\u001b[0m         suppress_ragged_eofs\u001b[39m=\u001b[39;49msuppress_ragged_eofs,\n\u001b[1;32m    518\u001b[0m         server_hostname\u001b[39m=\u001b[39;49mserver_hostname,\n\u001b[1;32m    519\u001b[0m         context\u001b[39m=\u001b[39;49m\u001b[39mself\u001b[39;49m,\n\u001b[1;32m    520\u001b[0m         session\u001b[39m=\u001b[39;49msession\n\u001b[1;32m    521\u001b[0m     )\n",
      "File \u001b[0;32m/Library/Frameworks/Python.framework/Versions/3.10/lib/python3.10/ssl.py:1071\u001b[0m, in \u001b[0;36mSSLSocket._create\u001b[0;34m(cls, sock, server_side, do_handshake_on_connect, suppress_ragged_eofs, server_hostname, context, session)\u001b[0m\n\u001b[1;32m   1070\u001b[0m             \u001b[39mraise\u001b[39;00m \u001b[39mValueError\u001b[39;00m(\u001b[39m\"\u001b[39m\u001b[39mdo_handshake_on_connect should not be specified for non-blocking sockets\u001b[39m\u001b[39m\"\u001b[39m)\n\u001b[0;32m-> 1071\u001b[0m         \u001b[39mself\u001b[39;49m\u001b[39m.\u001b[39;49mdo_handshake()\n\u001b[1;32m   1072\u001b[0m \u001b[39mexcept\u001b[39;00m (\u001b[39mOSError\u001b[39;00m, \u001b[39mValueError\u001b[39;00m):\n",
      "File \u001b[0;32m/Library/Frameworks/Python.framework/Versions/3.10/lib/python3.10/ssl.py:1342\u001b[0m, in \u001b[0;36mSSLSocket.do_handshake\u001b[0;34m(self, block)\u001b[0m\n\u001b[1;32m   1341\u001b[0m         \u001b[39mself\u001b[39m\u001b[39m.\u001b[39msettimeout(\u001b[39mNone\u001b[39;00m)\n\u001b[0;32m-> 1342\u001b[0m     \u001b[39mself\u001b[39;49m\u001b[39m.\u001b[39;49m_sslobj\u001b[39m.\u001b[39;49mdo_handshake()\n\u001b[1;32m   1343\u001b[0m \u001b[39mfinally\u001b[39;00m:\n",
      "\u001b[0;31mSSLCertVerificationError\u001b[0m: [SSL: CERTIFICATE_VERIFY_FAILED] certificate verify failed: unable to get local issuer certificate (_ssl.c:1007)",
      "\nDuring handling of the above exception, another exception occurred:\n",
      "\u001b[0;31mURLError\u001b[0m                                  Traceback (most recent call last)",
      "\u001b[1;32m/Users/patelpratham11/Documents/Productivity/Fall_2023/CMPINF 0010/Final_Project/Meghan/BusStops.ipynb Cell 3\u001b[0m line \u001b[0;36m3\n\u001b[1;32m      <a href='vscode-notebook-cell:/Users/patelpratham11/Documents/Productivity/Fall_2023/CMPINF%200010/Final_Project/Meghan/BusStops.ipynb#W2sZmlsZQ%3D%3D?line=0'>1</a>\u001b[0m \u001b[39mimport\u001b[39;00m \u001b[39mpandas\u001b[39;00m \u001b[39mas\u001b[39;00m \u001b[39mpd\u001b[39;00m\n\u001b[1;32m      <a href='vscode-notebook-cell:/Users/patelpratham11/Documents/Productivity/Fall_2023/CMPINF%200010/Final_Project/Meghan/BusStops.ipynb#W2sZmlsZQ%3D%3D?line=1'>2</a>\u001b[0m \u001b[39mimport\u001b[39;00m \u001b[39mgeopandas\u001b[39;00m \u001b[39mas\u001b[39;00m \u001b[39mgpd\u001b[39;00m\n\u001b[0;32m----> <a href='vscode-notebook-cell:/Users/patelpratham11/Documents/Productivity/Fall_2023/CMPINF%200010/Final_Project/Meghan/BusStops.ipynb#W2sZmlsZQ%3D%3D?line=2'>3</a>\u001b[0m \u001b[39mimport\u001b[39;00m \u001b[39mfpsnippets\u001b[39;00m\n\u001b[1;32m      <a href='vscode-notebook-cell:/Users/patelpratham11/Documents/Productivity/Fall_2023/CMPINF%200010/Final_Project/Meghan/BusStops.ipynb#W2sZmlsZQ%3D%3D?line=3'>4</a>\u001b[0m \u001b[39mimport\u001b[39;00m \u001b[39moperator\u001b[39;00m\n",
      "File \u001b[0;32m~/Documents/Productivity/Fall_2023/CMPINF 0010/Final_Project/Meghan/fpsnippets.py:6\u001b[0m\n\u001b[1;32m      3\u001b[0m \u001b[39mfrom\u001b[39;00m \u001b[39mshapely\u001b[39;00m\u001b[39m.\u001b[39;00m\u001b[39mgeometry\u001b[39;00m \u001b[39mimport\u001b[39;00m Point\n\u001b[1;32m      5\u001b[0m \u001b[39m# Load neighborhoods\u001b[39;00m\n\u001b[0;32m----> 6\u001b[0m NEIGHBORHOODS \u001b[39m=\u001b[39m geopandas\u001b[39m.\u001b[39;49mread_file(\u001b[39m\"\u001b[39;49m\u001b[39mhttp://data.wprdc.org/dataset/e672f13d-71c4-4a66-8f38-710e75ed80a4/resource/c5a93a8e-03d7-4eb3-91a8-c6b7db0fa261/download/pittsburghpaneighborhoods-.zip\u001b[39;49m\u001b[39m\"\u001b[39;49m)\n\u001b[1;32m      7\u001b[0m \u001b[39m# Load zip codes\u001b[39;00m\n\u001b[1;32m      8\u001b[0m ZIPS \u001b[39m=\u001b[39m geopandas\u001b[39m.\u001b[39mread_file(\u001b[39m\"\u001b[39m\u001b[39mhttp://data.wprdc.org/dataset/1a5135de-cabe-4e23-b5e4-b2b8dd733817/resource/ec228c0e-6b1e-4f44-a335-df05546d52ea/download/alcogisallegheny-county-zip-code-boundaries.zip\u001b[39m\u001b[39m\"\u001b[39m)\n",
      "File \u001b[0;32m/Library/Frameworks/Python.framework/Versions/3.10/lib/python3.10/site-packages/geopandas/io/file.py:281\u001b[0m, in \u001b[0;36m_read_file\u001b[0;34m(filename, bbox, mask, rows, engine, **kwargs)\u001b[0m\n\u001b[1;32m    275\u001b[0m from_bytes \u001b[39m=\u001b[39m \u001b[39mFalse\u001b[39;00m\n\u001b[1;32m    276\u001b[0m \u001b[39mif\u001b[39;00m _is_url(filename):\n\u001b[1;32m    277\u001b[0m     \u001b[39m# if it is a url that supports random access -> pass through to\u001b[39;00m\n\u001b[1;32m    278\u001b[0m     \u001b[39m# pyogrio/fiona as is (to support downloading only part of the file)\u001b[39;00m\n\u001b[1;32m    279\u001b[0m     \u001b[39m# otherwise still download manually because pyogrio/fiona don't support\u001b[39;00m\n\u001b[1;32m    280\u001b[0m     \u001b[39m# all types of urls (https://github.com/geopandas/geopandas/issues/2908)\u001b[39;00m\n\u001b[0;32m--> 281\u001b[0m     \u001b[39mwith\u001b[39;00m urllib\u001b[39m.\u001b[39;49mrequest\u001b[39m.\u001b[39;49murlopen(filename) \u001b[39mas\u001b[39;00m response:\n\u001b[1;32m    282\u001b[0m         \u001b[39mif\u001b[39;00m \u001b[39mnot\u001b[39;00m response\u001b[39m.\u001b[39mheaders\u001b[39m.\u001b[39mget(\u001b[39m\"\u001b[39m\u001b[39mAccept-Ranges\u001b[39m\u001b[39m\"\u001b[39m) \u001b[39m==\u001b[39m \u001b[39m\"\u001b[39m\u001b[39mbytes\u001b[39m\u001b[39m\"\u001b[39m:\n\u001b[1;32m    283\u001b[0m             filename \u001b[39m=\u001b[39m response\u001b[39m.\u001b[39mread()\n",
      "File \u001b[0;32m/Library/Frameworks/Python.framework/Versions/3.10/lib/python3.10/urllib/request.py:216\u001b[0m, in \u001b[0;36murlopen\u001b[0;34m(url, data, timeout, cafile, capath, cadefault, context)\u001b[0m\n\u001b[1;32m    214\u001b[0m \u001b[39melse\u001b[39;00m:\n\u001b[1;32m    215\u001b[0m     opener \u001b[39m=\u001b[39m _opener\n\u001b[0;32m--> 216\u001b[0m \u001b[39mreturn\u001b[39;00m opener\u001b[39m.\u001b[39;49mopen(url, data, timeout)\n",
      "File \u001b[0;32m/Library/Frameworks/Python.framework/Versions/3.10/lib/python3.10/urllib/request.py:525\u001b[0m, in \u001b[0;36mOpenerDirector.open\u001b[0;34m(self, fullurl, data, timeout)\u001b[0m\n\u001b[1;32m    523\u001b[0m \u001b[39mfor\u001b[39;00m processor \u001b[39min\u001b[39;00m \u001b[39mself\u001b[39m\u001b[39m.\u001b[39mprocess_response\u001b[39m.\u001b[39mget(protocol, []):\n\u001b[1;32m    524\u001b[0m     meth \u001b[39m=\u001b[39m \u001b[39mgetattr\u001b[39m(processor, meth_name)\n\u001b[0;32m--> 525\u001b[0m     response \u001b[39m=\u001b[39m meth(req, response)\n\u001b[1;32m    527\u001b[0m \u001b[39mreturn\u001b[39;00m response\n",
      "File \u001b[0;32m/Library/Frameworks/Python.framework/Versions/3.10/lib/python3.10/urllib/request.py:634\u001b[0m, in \u001b[0;36mHTTPErrorProcessor.http_response\u001b[0;34m(self, request, response)\u001b[0m\n\u001b[1;32m    631\u001b[0m \u001b[39m# According to RFC 2616, \"2xx\" code indicates that the client's\u001b[39;00m\n\u001b[1;32m    632\u001b[0m \u001b[39m# request was successfully received, understood, and accepted.\u001b[39;00m\n\u001b[1;32m    633\u001b[0m \u001b[39mif\u001b[39;00m \u001b[39mnot\u001b[39;00m (\u001b[39m200\u001b[39m \u001b[39m<\u001b[39m\u001b[39m=\u001b[39m code \u001b[39m<\u001b[39m \u001b[39m300\u001b[39m):\n\u001b[0;32m--> 634\u001b[0m     response \u001b[39m=\u001b[39m \u001b[39mself\u001b[39;49m\u001b[39m.\u001b[39;49mparent\u001b[39m.\u001b[39;49merror(\n\u001b[1;32m    635\u001b[0m         \u001b[39m'\u001b[39;49m\u001b[39mhttp\u001b[39;49m\u001b[39m'\u001b[39;49m, request, response, code, msg, hdrs)\n\u001b[1;32m    637\u001b[0m \u001b[39mreturn\u001b[39;00m response\n",
      "File \u001b[0;32m/Library/Frameworks/Python.framework/Versions/3.10/lib/python3.10/urllib/request.py:557\u001b[0m, in \u001b[0;36mOpenerDirector.error\u001b[0;34m(self, proto, *args)\u001b[0m\n\u001b[1;32m    555\u001b[0m     http_err \u001b[39m=\u001b[39m \u001b[39m0\u001b[39m\n\u001b[1;32m    556\u001b[0m args \u001b[39m=\u001b[39m (\u001b[39mdict\u001b[39m, proto, meth_name) \u001b[39m+\u001b[39m args\n\u001b[0;32m--> 557\u001b[0m result \u001b[39m=\u001b[39m \u001b[39mself\u001b[39;49m\u001b[39m.\u001b[39;49m_call_chain(\u001b[39m*\u001b[39;49margs)\n\u001b[1;32m    558\u001b[0m \u001b[39mif\u001b[39;00m result:\n\u001b[1;32m    559\u001b[0m     \u001b[39mreturn\u001b[39;00m result\n",
      "File \u001b[0;32m/Library/Frameworks/Python.framework/Versions/3.10/lib/python3.10/urllib/request.py:496\u001b[0m, in \u001b[0;36mOpenerDirector._call_chain\u001b[0;34m(self, chain, kind, meth_name, *args)\u001b[0m\n\u001b[1;32m    494\u001b[0m \u001b[39mfor\u001b[39;00m handler \u001b[39min\u001b[39;00m handlers:\n\u001b[1;32m    495\u001b[0m     func \u001b[39m=\u001b[39m \u001b[39mgetattr\u001b[39m(handler, meth_name)\n\u001b[0;32m--> 496\u001b[0m     result \u001b[39m=\u001b[39m func(\u001b[39m*\u001b[39;49margs)\n\u001b[1;32m    497\u001b[0m     \u001b[39mif\u001b[39;00m result \u001b[39mis\u001b[39;00m \u001b[39mnot\u001b[39;00m \u001b[39mNone\u001b[39;00m:\n\u001b[1;32m    498\u001b[0m         \u001b[39mreturn\u001b[39;00m result\n",
      "File \u001b[0;32m/Library/Frameworks/Python.framework/Versions/3.10/lib/python3.10/urllib/request.py:749\u001b[0m, in \u001b[0;36mHTTPRedirectHandler.http_error_302\u001b[0;34m(self, req, fp, code, msg, headers)\u001b[0m\n\u001b[1;32m    746\u001b[0m fp\u001b[39m.\u001b[39mread()\n\u001b[1;32m    747\u001b[0m fp\u001b[39m.\u001b[39mclose()\n\u001b[0;32m--> 749\u001b[0m \u001b[39mreturn\u001b[39;00m \u001b[39mself\u001b[39;49m\u001b[39m.\u001b[39;49mparent\u001b[39m.\u001b[39;49mopen(new, timeout\u001b[39m=\u001b[39;49mreq\u001b[39m.\u001b[39;49mtimeout)\n",
      "File \u001b[0;32m/Library/Frameworks/Python.framework/Versions/3.10/lib/python3.10/urllib/request.py:519\u001b[0m, in \u001b[0;36mOpenerDirector.open\u001b[0;34m(self, fullurl, data, timeout)\u001b[0m\n\u001b[1;32m    516\u001b[0m     req \u001b[39m=\u001b[39m meth(req)\n\u001b[1;32m    518\u001b[0m sys\u001b[39m.\u001b[39maudit(\u001b[39m'\u001b[39m\u001b[39murllib.Request\u001b[39m\u001b[39m'\u001b[39m, req\u001b[39m.\u001b[39mfull_url, req\u001b[39m.\u001b[39mdata, req\u001b[39m.\u001b[39mheaders, req\u001b[39m.\u001b[39mget_method())\n\u001b[0;32m--> 519\u001b[0m response \u001b[39m=\u001b[39m \u001b[39mself\u001b[39;49m\u001b[39m.\u001b[39;49m_open(req, data)\n\u001b[1;32m    521\u001b[0m \u001b[39m# post-process response\u001b[39;00m\n\u001b[1;32m    522\u001b[0m meth_name \u001b[39m=\u001b[39m protocol\u001b[39m+\u001b[39m\u001b[39m\"\u001b[39m\u001b[39m_response\u001b[39m\u001b[39m\"\u001b[39m\n",
      "File \u001b[0;32m/Library/Frameworks/Python.framework/Versions/3.10/lib/python3.10/urllib/request.py:536\u001b[0m, in \u001b[0;36mOpenerDirector._open\u001b[0;34m(self, req, data)\u001b[0m\n\u001b[1;32m    533\u001b[0m     \u001b[39mreturn\u001b[39;00m result\n\u001b[1;32m    535\u001b[0m protocol \u001b[39m=\u001b[39m req\u001b[39m.\u001b[39mtype\n\u001b[0;32m--> 536\u001b[0m result \u001b[39m=\u001b[39m \u001b[39mself\u001b[39;49m\u001b[39m.\u001b[39;49m_call_chain(\u001b[39mself\u001b[39;49m\u001b[39m.\u001b[39;49mhandle_open, protocol, protocol \u001b[39m+\u001b[39;49m\n\u001b[1;32m    537\u001b[0m                           \u001b[39m'\u001b[39;49m\u001b[39m_open\u001b[39;49m\u001b[39m'\u001b[39;49m, req)\n\u001b[1;32m    538\u001b[0m \u001b[39mif\u001b[39;00m result:\n\u001b[1;32m    539\u001b[0m     \u001b[39mreturn\u001b[39;00m result\n",
      "File \u001b[0;32m/Library/Frameworks/Python.framework/Versions/3.10/lib/python3.10/urllib/request.py:496\u001b[0m, in \u001b[0;36mOpenerDirector._call_chain\u001b[0;34m(self, chain, kind, meth_name, *args)\u001b[0m\n\u001b[1;32m    494\u001b[0m \u001b[39mfor\u001b[39;00m handler \u001b[39min\u001b[39;00m handlers:\n\u001b[1;32m    495\u001b[0m     func \u001b[39m=\u001b[39m \u001b[39mgetattr\u001b[39m(handler, meth_name)\n\u001b[0;32m--> 496\u001b[0m     result \u001b[39m=\u001b[39m func(\u001b[39m*\u001b[39;49margs)\n\u001b[1;32m    497\u001b[0m     \u001b[39mif\u001b[39;00m result \u001b[39mis\u001b[39;00m \u001b[39mnot\u001b[39;00m \u001b[39mNone\u001b[39;00m:\n\u001b[1;32m    498\u001b[0m         \u001b[39mreturn\u001b[39;00m result\n",
      "File \u001b[0;32m/Library/Frameworks/Python.framework/Versions/3.10/lib/python3.10/urllib/request.py:1391\u001b[0m, in \u001b[0;36mHTTPSHandler.https_open\u001b[0;34m(self, req)\u001b[0m\n\u001b[1;32m   1390\u001b[0m \u001b[39mdef\u001b[39;00m \u001b[39mhttps_open\u001b[39m(\u001b[39mself\u001b[39m, req):\n\u001b[0;32m-> 1391\u001b[0m     \u001b[39mreturn\u001b[39;00m \u001b[39mself\u001b[39;49m\u001b[39m.\u001b[39;49mdo_open(http\u001b[39m.\u001b[39;49mclient\u001b[39m.\u001b[39;49mHTTPSConnection, req,\n\u001b[1;32m   1392\u001b[0m         context\u001b[39m=\u001b[39;49m\u001b[39mself\u001b[39;49m\u001b[39m.\u001b[39;49m_context, check_hostname\u001b[39m=\u001b[39;49m\u001b[39mself\u001b[39;49m\u001b[39m.\u001b[39;49m_check_hostname)\n",
      "File \u001b[0;32m/Library/Frameworks/Python.framework/Versions/3.10/lib/python3.10/urllib/request.py:1351\u001b[0m, in \u001b[0;36mAbstractHTTPHandler.do_open\u001b[0;34m(self, http_class, req, **http_conn_args)\u001b[0m\n\u001b[1;32m   1348\u001b[0m         h\u001b[39m.\u001b[39mrequest(req\u001b[39m.\u001b[39mget_method(), req\u001b[39m.\u001b[39mselector, req\u001b[39m.\u001b[39mdata, headers,\n\u001b[1;32m   1349\u001b[0m                   encode_chunked\u001b[39m=\u001b[39mreq\u001b[39m.\u001b[39mhas_header(\u001b[39m'\u001b[39m\u001b[39mTransfer-encoding\u001b[39m\u001b[39m'\u001b[39m))\n\u001b[1;32m   1350\u001b[0m     \u001b[39mexcept\u001b[39;00m \u001b[39mOSError\u001b[39;00m \u001b[39mas\u001b[39;00m err: \u001b[39m# timeout error\u001b[39;00m\n\u001b[0;32m-> 1351\u001b[0m         \u001b[39mraise\u001b[39;00m URLError(err)\n\u001b[1;32m   1352\u001b[0m     r \u001b[39m=\u001b[39m h\u001b[39m.\u001b[39mgetresponse()\n\u001b[1;32m   1353\u001b[0m \u001b[39mexcept\u001b[39;00m:\n",
      "\u001b[0;31mURLError\u001b[0m: <urlopen error [SSL: CERTIFICATE_VERIFY_FAILED] certificate verify failed: unable to get local issuer certificate (_ssl.c:1007)>"
     ]
    }
   ],
   "source": [
    "import pandas as pd\n",
    "import geopandas as gpd\n",
    "import fpsnippets\n",
    "import operator"
   ]
  },
  {
   "cell_type": "code",
   "execution_count": null,
   "metadata": {},
   "outputs": [],
   "source": [
    "df = pd.read_csv('data/Bus_Stop_Data.csv')"
   ]
  },
  {
   "cell_type": "markdown",
   "metadata": {},
   "source": [
    "After my data is printed, it must be sorted by **neighborhood**. My data is **labeled by latitude and longitude**."
   ]
  },
  {
   "cell_type": "code",
   "execution_count": null,
   "metadata": {},
   "outputs": [
    {
     "data": {
      "text/html": [
       "<div>\n",
       "<style scoped>\n",
       "    .dataframe tbody tr th:only-of-type {\n",
       "        vertical-align: middle;\n",
       "    }\n",
       "\n",
       "    .dataframe tbody tr th {\n",
       "        vertical-align: top;\n",
       "    }\n",
       "\n",
       "    .dataframe thead th {\n",
       "        text-align: right;\n",
       "    }\n",
       "</style>\n",
       "<table border=\"1\" class=\"dataframe\">\n",
       "  <thead>\n",
       "    <tr style=\"text-align: right;\">\n",
       "      <th></th>\n",
       "      <th>clever_id</th>\n",
       "      <th>stop_id</th>\n",
       "      <th>stop_name</th>\n",
       "      <th>direction</th>\n",
       "      <th>routes_ser</th>\n",
       "      <th>latitude</th>\n",
       "      <th>longitude</th>\n",
       "      <th>mode</th>\n",
       "      <th>shelter</th>\n",
       "      <th>stop_type</th>\n",
       "      <th>datekey</th>\n",
       "      <th>time_period</th>\n",
       "      <th>route_name</th>\n",
       "      <th>serviceday</th>\n",
       "      <th>total_ons</th>\n",
       "      <th>total_offs</th>\n",
       "      <th>days</th>\n",
       "      <th>avg_ons</th>\n",
       "      <th>avg_offs</th>\n",
       "    </tr>\n",
       "  </thead>\n",
       "  <tbody>\n",
       "    <tr>\n",
       "      <th>0</th>\n",
       "      <td>7858</td>\n",
       "      <td>E02110</td>\n",
       "      <td>5TH ST AT CAVIT AVE</td>\n",
       "      <td>Inbound</td>\n",
       "      <td>69, P69</td>\n",
       "      <td>40.3858</td>\n",
       "      <td>-79.76</td>\n",
       "      <td>Bus</td>\n",
       "      <td>No Shelter</td>\n",
       "      <td>Bus Stop</td>\n",
       "      <td>201909</td>\n",
       "      <td>Pre-pandemic</td>\n",
       "      <td>69</td>\n",
       "      <td>Sat</td>\n",
       "      <td>12.0</td>\n",
       "      <td>0.0</td>\n",
       "      <td>4</td>\n",
       "      <td>3.000000</td>\n",
       "      <td>0.00</td>\n",
       "    </tr>\n",
       "    <tr>\n",
       "      <th>1</th>\n",
       "      <td>7858</td>\n",
       "      <td>E02110</td>\n",
       "      <td>5TH ST AT CAVIT AVE</td>\n",
       "      <td>Inbound</td>\n",
       "      <td>69, P69</td>\n",
       "      <td>40.3858</td>\n",
       "      <td>-79.76</td>\n",
       "      <td>Bus</td>\n",
       "      <td>No Shelter</td>\n",
       "      <td>Bus Stop</td>\n",
       "      <td>201909</td>\n",
       "      <td>Pre-pandemic</td>\n",
       "      <td>69</td>\n",
       "      <td>Sun</td>\n",
       "      <td>14.0</td>\n",
       "      <td>0.0</td>\n",
       "      <td>6</td>\n",
       "      <td>2.333333</td>\n",
       "      <td>0.00</td>\n",
       "    </tr>\n",
       "    <tr>\n",
       "      <th>2</th>\n",
       "      <td>7858</td>\n",
       "      <td>E02110</td>\n",
       "      <td>5TH ST AT CAVIT AVE</td>\n",
       "      <td>Inbound</td>\n",
       "      <td>69, P69</td>\n",
       "      <td>40.3858</td>\n",
       "      <td>-79.76</td>\n",
       "      <td>Bus</td>\n",
       "      <td>No Shelter</td>\n",
       "      <td>Bus Stop</td>\n",
       "      <td>201909</td>\n",
       "      <td>Pre-pandemic</td>\n",
       "      <td>69</td>\n",
       "      <td>Weekday</td>\n",
       "      <td>64.0</td>\n",
       "      <td>1.0</td>\n",
       "      <td>20</td>\n",
       "      <td>3.200000</td>\n",
       "      <td>0.05</td>\n",
       "    </tr>\n",
       "    <tr>\n",
       "      <th>3</th>\n",
       "      <td>7858</td>\n",
       "      <td>E02110</td>\n",
       "      <td>5TH ST AT CAVIT AVE</td>\n",
       "      <td>Inbound</td>\n",
       "      <td>69, P69</td>\n",
       "      <td>40.3858</td>\n",
       "      <td>-79.76</td>\n",
       "      <td>Bus</td>\n",
       "      <td>No Shelter</td>\n",
       "      <td>Bus Stop</td>\n",
       "      <td>201909</td>\n",
       "      <td>Pre-pandemic</td>\n",
       "      <td>P69</td>\n",
       "      <td>Weekday</td>\n",
       "      <td>39.0</td>\n",
       "      <td>0.0</td>\n",
       "      <td>20</td>\n",
       "      <td>1.950000</td>\n",
       "      <td>0.00</td>\n",
       "    </tr>\n",
       "    <tr>\n",
       "      <th>4</th>\n",
       "      <td>7858</td>\n",
       "      <td>E02110</td>\n",
       "      <td>5TH ST AT CAVIT AVE</td>\n",
       "      <td>Inbound</td>\n",
       "      <td>69, P69</td>\n",
       "      <td>40.3858</td>\n",
       "      <td>-79.76</td>\n",
       "      <td>Bus</td>\n",
       "      <td>No Shelter</td>\n",
       "      <td>Bus Stop</td>\n",
       "      <td>202001</td>\n",
       "      <td>Pre-pandemic</td>\n",
       "      <td>69</td>\n",
       "      <td>Sat</td>\n",
       "      <td>11.0</td>\n",
       "      <td>0.0</td>\n",
       "      <td>4</td>\n",
       "      <td>2.750000</td>\n",
       "      <td>0.00</td>\n",
       "    </tr>\n",
       "  </tbody>\n",
       "</table>\n",
       "</div>"
      ],
      "text/plain": [
       "   clever_id stop_id            stop_name direction routes_ser  latitude  \\\n",
       "0       7858  E02110  5TH ST AT CAVIT AVE   Inbound    69, P69   40.3858   \n",
       "1       7858  E02110  5TH ST AT CAVIT AVE   Inbound    69, P69   40.3858   \n",
       "2       7858  E02110  5TH ST AT CAVIT AVE   Inbound    69, P69   40.3858   \n",
       "3       7858  E02110  5TH ST AT CAVIT AVE   Inbound    69, P69   40.3858   \n",
       "4       7858  E02110  5TH ST AT CAVIT AVE   Inbound    69, P69   40.3858   \n",
       "\n",
       "   longitude mode     shelter stop_type  datekey   time_period route_name  \\\n",
       "0     -79.76  Bus  No Shelter  Bus Stop   201909  Pre-pandemic         69   \n",
       "1     -79.76  Bus  No Shelter  Bus Stop   201909  Pre-pandemic         69   \n",
       "2     -79.76  Bus  No Shelter  Bus Stop   201909  Pre-pandemic         69   \n",
       "3     -79.76  Bus  No Shelter  Bus Stop   201909  Pre-pandemic        P69   \n",
       "4     -79.76  Bus  No Shelter  Bus Stop   202001  Pre-pandemic         69   \n",
       "\n",
       "  serviceday  total_ons  total_offs  days   avg_ons  avg_offs  \n",
       "0        Sat       12.0         0.0     4  3.000000      0.00  \n",
       "1        Sun       14.0         0.0     6  2.333333      0.00  \n",
       "2    Weekday       64.0         1.0    20  3.200000      0.05  \n",
       "3    Weekday       39.0         0.0    20  1.950000      0.00  \n",
       "4        Sat       11.0         0.0     4  2.750000      0.00  "
      ]
     },
     "execution_count": 15,
     "metadata": {},
     "output_type": "execute_result"
    }
   ],
   "source": [
    "df.head()"
   ]
  },
  {
   "cell_type": "markdown",
   "metadata": {},
   "source": [
    "Printing data and column info!"
   ]
  },
  {
   "cell_type": "code",
   "execution_count": null,
   "metadata": {},
   "outputs": [
    {
     "name": "stdout",
     "output_type": "stream",
     "text": [
      "<class 'pandas.core.frame.DataFrame'>\n",
      "RangeIndex: 107611 entries, 0 to 107610\n",
      "Data columns (total 19 columns):\n",
      " #   Column       Non-Null Count   Dtype  \n",
      "---  ------       --------------   -----  \n",
      " 0   clever_id    107611 non-null  int64  \n",
      " 1   stop_id      107611 non-null  object \n",
      " 2   stop_name    107611 non-null  object \n",
      " 3   direction    107611 non-null  object \n",
      " 4   routes_ser   107611 non-null  object \n",
      " 5   latitude     107611 non-null  float64\n",
      " 6   longitude    107611 non-null  float64\n",
      " 7   mode         107596 non-null  object \n",
      " 8   shelter      107596 non-null  object \n",
      " 9   stop_type    107596 non-null  object \n",
      " 10  datekey      107611 non-null  int64  \n",
      " 11  time_period  107611 non-null  object \n",
      " 12  route_name   107611 non-null  object \n",
      " 13  serviceday   107611 non-null  object \n",
      " 14  total_ons    107405 non-null  float64\n",
      " 15  total_offs   107404 non-null  float64\n",
      " 16  days         107611 non-null  int64  \n",
      " 17  avg_ons      107405 non-null  float64\n",
      " 18  avg_offs     107404 non-null  float64\n",
      "dtypes: float64(6), int64(3), object(10)\n",
      "memory usage: 15.6+ MB\n"
     ]
    }
   ],
   "source": [
    "df.info()"
   ]
  },
  {
   "cell_type": "markdown",
   "metadata": {},
   "source": [
    "Separating the columns containing latitude & longitude, then printing them."
   ]
  },
  {
   "cell_type": "code",
   "execution_count": null,
   "metadata": {},
   "outputs": [],
   "source": [
    "datax = df.get([\"latitude\"])\n",
    "datay = df.get([\"longitude\"])"
   ]
  },
  {
   "cell_type": "code",
   "execution_count": null,
   "metadata": {},
   "outputs": [
    {
     "data": {
      "text/html": [
       "<div>\n",
       "<style scoped>\n",
       "    .dataframe tbody tr th:only-of-type {\n",
       "        vertical-align: middle;\n",
       "    }\n",
       "\n",
       "    .dataframe tbody tr th {\n",
       "        vertical-align: top;\n",
       "    }\n",
       "\n",
       "    .dataframe thead th {\n",
       "        text-align: right;\n",
       "    }\n",
       "</style>\n",
       "<table border=\"1\" class=\"dataframe\">\n",
       "  <thead>\n",
       "    <tr style=\"text-align: right;\">\n",
       "      <th></th>\n",
       "      <th>latitude</th>\n",
       "    </tr>\n",
       "  </thead>\n",
       "  <tbody>\n",
       "    <tr>\n",
       "      <th>0</th>\n",
       "      <td>40.3858</td>\n",
       "    </tr>\n",
       "    <tr>\n",
       "      <th>1</th>\n",
       "      <td>40.3858</td>\n",
       "    </tr>\n",
       "    <tr>\n",
       "      <th>2</th>\n",
       "      <td>40.3858</td>\n",
       "    </tr>\n",
       "    <tr>\n",
       "      <th>3</th>\n",
       "      <td>40.3858</td>\n",
       "    </tr>\n",
       "    <tr>\n",
       "      <th>4</th>\n",
       "      <td>40.3858</td>\n",
       "    </tr>\n",
       "    <tr>\n",
       "      <th>...</th>\n",
       "      <td>...</td>\n",
       "    </tr>\n",
       "    <tr>\n",
       "      <th>107606</th>\n",
       "      <td>40.3925</td>\n",
       "    </tr>\n",
       "    <tr>\n",
       "      <th>107607</th>\n",
       "      <td>40.3925</td>\n",
       "    </tr>\n",
       "    <tr>\n",
       "      <th>107608</th>\n",
       "      <td>40.3925</td>\n",
       "    </tr>\n",
       "    <tr>\n",
       "      <th>107609</th>\n",
       "      <td>40.3925</td>\n",
       "    </tr>\n",
       "    <tr>\n",
       "      <th>107610</th>\n",
       "      <td>40.3925</td>\n",
       "    </tr>\n",
       "  </tbody>\n",
       "</table>\n",
       "<p>107611 rows × 1 columns</p>\n",
       "</div>"
      ],
      "text/plain": [
       "        latitude\n",
       "0        40.3858\n",
       "1        40.3858\n",
       "2        40.3858\n",
       "3        40.3858\n",
       "4        40.3858\n",
       "...          ...\n",
       "107606   40.3925\n",
       "107607   40.3925\n",
       "107608   40.3925\n",
       "107609   40.3925\n",
       "107610   40.3925\n",
       "\n",
       "[107611 rows x 1 columns]"
      ]
     },
     "execution_count": 18,
     "metadata": {},
     "output_type": "execute_result"
    }
   ],
   "source": [
    "datax"
   ]
  },
  {
   "cell_type": "code",
   "execution_count": null,
   "metadata": {},
   "outputs": [
    {
     "data": {
      "text/html": [
       "<div>\n",
       "<style scoped>\n",
       "    .dataframe tbody tr th:only-of-type {\n",
       "        vertical-align: middle;\n",
       "    }\n",
       "\n",
       "    .dataframe tbody tr th {\n",
       "        vertical-align: top;\n",
       "    }\n",
       "\n",
       "    .dataframe thead th {\n",
       "        text-align: right;\n",
       "    }\n",
       "</style>\n",
       "<table border=\"1\" class=\"dataframe\">\n",
       "  <thead>\n",
       "    <tr style=\"text-align: right;\">\n",
       "      <th></th>\n",
       "      <th>longitude</th>\n",
       "    </tr>\n",
       "  </thead>\n",
       "  <tbody>\n",
       "    <tr>\n",
       "      <th>0</th>\n",
       "      <td>-79.7600</td>\n",
       "    </tr>\n",
       "    <tr>\n",
       "      <th>1</th>\n",
       "      <td>-79.7600</td>\n",
       "    </tr>\n",
       "    <tr>\n",
       "      <th>2</th>\n",
       "      <td>-79.7600</td>\n",
       "    </tr>\n",
       "    <tr>\n",
       "      <th>3</th>\n",
       "      <td>-79.7600</td>\n",
       "    </tr>\n",
       "    <tr>\n",
       "      <th>4</th>\n",
       "      <td>-79.7600</td>\n",
       "    </tr>\n",
       "    <tr>\n",
       "      <th>...</th>\n",
       "      <td>...</td>\n",
       "    </tr>\n",
       "    <tr>\n",
       "      <th>107606</th>\n",
       "      <td>-79.8086</td>\n",
       "    </tr>\n",
       "    <tr>\n",
       "      <th>107607</th>\n",
       "      <td>-79.8086</td>\n",
       "    </tr>\n",
       "    <tr>\n",
       "      <th>107608</th>\n",
       "      <td>-79.8086</td>\n",
       "    </tr>\n",
       "    <tr>\n",
       "      <th>107609</th>\n",
       "      <td>-79.8086</td>\n",
       "    </tr>\n",
       "    <tr>\n",
       "      <th>107610</th>\n",
       "      <td>-79.8086</td>\n",
       "    </tr>\n",
       "  </tbody>\n",
       "</table>\n",
       "<p>107611 rows × 1 columns</p>\n",
       "</div>"
      ],
      "text/plain": [
       "        longitude\n",
       "0        -79.7600\n",
       "1        -79.7600\n",
       "2        -79.7600\n",
       "3        -79.7600\n",
       "4        -79.7600\n",
       "...           ...\n",
       "107606   -79.8086\n",
       "107607   -79.8086\n",
       "107608   -79.8086\n",
       "107609   -79.8086\n",
       "107610   -79.8086\n",
       "\n",
       "[107611 rows x 1 columns]"
      ]
     },
     "execution_count": 19,
     "metadata": {},
     "output_type": "execute_result"
    }
   ],
   "source": [
    "datay"
   ]
  },
  {
   "cell_type": "code",
   "execution_count": null,
   "metadata": {},
   "outputs": [
    {
     "name": "stdout",
     "output_type": "stream",
     "text": [
      "{'Lincoln-Lemington-Belmar': 1349, 'Perry North': 420, 'Mt. Oliver': 112, 'Oakwood': 112, 'Spring Garden': 128, 'Troy Hill': 313, 'Homewood North': 406, 'East Hills': 540, 'Crafton Heights': 360, 'Brookline': 991, 'Overbrook': 393, 'Friendship': 288, 'East Liberty': 1914, 'Allegheny West': 44, 'Chartiers City': 72, 'Arlington Heights': 12, 'Bedford Dwellings': 132, 'Regent Square': 160, 'Point Breeze': 756, 'Homewood West': 352, 'West End': 270, 'South Shore': 911, 'West Oakland': 2046, 'California-Kirkbride': 279, 'Manchester': 376, 'Allegheny Center': 1046, 'Esplen': 315, 'East Allegheny': 723, 'Crawford-Roberts': 822, 'Polish Hill': 580, 'Central Northside': 569, 'Fineview': 156, 'Central Oakland': 760, 'Point Breeze North': 369, 'Allentown': 263, 'South Side Slopes': 660, 'Knoxville': 428, 'Middle Hill': 408, 'North Shore': 1242, 'St. Clair': 13, 'Northview Heights': 432, 'Spring Hill-City View': 432, 'Upper Hill': 264, 'Bon Air': 132, 'Bluff': 1684, 'Terrace Village': 420, 'Ridgemont': 12, 'Morningside': 499, 'Chateau': 168, 'Homewood South': 686, 'Upper Lawrenceville': 548, 'Central Lawrenceville': 492, 'Windgap': 252, 'Beltzhoover': 585, 'Summer Hill': 360, 'Lower Lawrenceville': 768, 'East Carnegie': 48, 'Larimer': 1098, 'Glen Hazel': 270, 'Garfield': 528, 'Arlington': 84, 'Swisshelm Park': 24, 'North Oakland': 2060, 'Bloomfield': 1732, 'South Oakland': 1116, 'Elliott': 404, 'Strip District': 1121, 'Duquesne Heights': 144, 'Central Business District': 5901, 'Westwood': 252, 'Stanton Heights': 304, 'Greenfield': 1200, 'Hazelwood': 986, 'Sheraden': 628, 'Perry South': 972, 'Marshall-Shadeland': 543, 'Shadyside': 1860, 'Squirrel Hill North': 1989, 'South Side Flats': 996, 'Fairywood': 120, 'Banksville': 96, 'Lincoln Place': 369, 'New Homestead': 36, 'Brighton Heights': 744, 'Mount Washington': 1424, 'Highland Park': 486, 'Beechview': 132, 'Squirrel Hill South': 1419, 'Carrick': 472, 'Hays': 84}\n"
     ]
    }
   ],
   "source": [
    "#Creating a dictionary and each time a name of a neighborhood is repeated from looping through the latitude nad longitude add one.\n",
    "dict1 = {}\n",
    "\n",
    "for index, row in df.iterrows():\n",
    "    try:\n",
    "        x = (fpsnippets.geo_to_neighborhood(row['latitude'], row['longitude']))\n",
    "        if x is not None:\n",
    "            if x not in dict1:\n",
    "                dict1[x]=1\n",
    "            else:\n",
    "                dict1[x] +=1\n",
    "    except:\n",
    "        print(\"Exception\")\n",
    "            \n",
    "print(dict1)"
   ]
  },
  {
   "cell_type": "markdown",
   "metadata": {},
   "source": [
    "Now that this data has been labeled by **neighborhood**, the totals can lead me to which is the best neighborhood to choose, according to the data. I am now going to sort them."
   ]
  },
  {
   "cell_type": "code",
   "execution_count": null,
   "metadata": {},
   "outputs": [
    {
     "name": "stdout",
     "output_type": "stream",
     "text": [
      "{'Arlington Heights': 12, 'Ridgemont': 12, 'St. Clair': 13, 'Swisshelm Park': 24, 'New Homestead': 36, 'Allegheny West': 44, 'East Carnegie': 48, 'Chartiers City': 72, 'Arlington': 84, 'Hays': 84, 'Banksville': 96, 'Mt. Oliver': 112, 'Oakwood': 112, 'Fairywood': 120, 'Spring Garden': 128, 'Bedford Dwellings': 132, 'Bon Air': 132, 'Beechview': 132, 'Duquesne Heights': 144, 'Fineview': 156, 'Regent Square': 160, 'Chateau': 168, 'Windgap': 252, 'Westwood': 252, 'Allentown': 263, 'Upper Hill': 264, 'West End': 270, 'Glen Hazel': 270, 'California-Kirkbride': 279, 'Friendship': 288, 'Stanton Heights': 304, 'Troy Hill': 313, 'Esplen': 315, 'Homewood West': 352, 'Crafton Heights': 360, 'Summer Hill': 360, 'Point Breeze North': 369, 'Lincoln Place': 369, 'Manchester': 376, 'Overbrook': 393, 'Elliott': 404, 'Homewood North': 406, 'Middle Hill': 408, 'Perry North': 420, 'Terrace Village': 420, 'Knoxville': 428, 'Northview Heights': 432, 'Spring Hill-City View': 432, 'Carrick': 472, 'Highland Park': 486, 'Central Lawrenceville': 492, 'Morningside': 499, 'Garfield': 528, 'East Hills': 540, 'Marshall-Shadeland': 543, 'Upper Lawrenceville': 548, 'Central Northside': 569, 'Polish Hill': 580, 'Beltzhoover': 585, 'Sheraden': 628, 'South Side Slopes': 660, 'Homewood South': 686, 'East Allegheny': 723, 'Brighton Heights': 744, 'Point Breeze': 756, 'Central Oakland': 760, 'Lower Lawrenceville': 768, 'Crawford-Roberts': 822, 'South Shore': 911, 'Perry South': 972, 'Hazelwood': 986, 'Brookline': 991, 'South Side Flats': 996, 'Allegheny Center': 1046, 'Larimer': 1098, 'South Oakland': 1116, 'Strip District': 1121, 'Greenfield': 1200, 'North Shore': 1242, 'Lincoln-Lemington-Belmar': 1349, 'Squirrel Hill South': 1419, 'Mount Washington': 1424, 'Bluff': 1684, 'Bloomfield': 1732, 'Shadyside': 1860, 'East Liberty': 1914, 'Squirrel Hill North': 1989, 'West Oakland': 2046, 'North Oakland': 2060, 'Central Business District': 5901}\n"
     ]
    }
   ],
   "source": [
    "#sorting the dictionary from least to greatest.\n",
    "sort = dict(sorted(dict1.items(), key=operator.itemgetter(1)))\n",
    "print(sort)"
   ]
  },
  {
   "cell_type": "code",
   "execution_count": null,
   "metadata": {},
   "outputs": [],
   "source": [
    "#I am considering which neighborhood to be the least to be the winner, but this can be changed."
   ]
  },
  {
   "cell_type": "markdown",
   "metadata": {},
   "source": [
    "So... according to the data, the Pittsburgh neighborhood with the least amount of people boarding the bus is **Arlington Heights**!"
   ]
  },
  {
   "cell_type": "markdown",
   "metadata": {},
   "source": []
  }
 ],
 "metadata": {
  "kernelspec": {
   "display_name": "Python 3",
   "language": "python",
   "name": "python3"
  },
  "language_info": {
   "codemirror_mode": {
    "name": "ipython",
    "version": 3
   },
   "file_extension": ".py",
   "mimetype": "text/x-python",
   "name": "python",
   "nbconvert_exporter": "python",
   "pygments_lexer": "ipython3",
   "version": "3.10.11"
  }
 },
 "nbformat": 4,
 "nbformat_minor": 4
}
