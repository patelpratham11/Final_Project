{
 "cells": [
  {
   "cell_type": "code",
   "execution_count": 22,
   "metadata": {},
   "outputs": [],
   "source": [
    "import geopandas as gpd\n",
    "import pandas as pd\n",
    "from shapely.geometry import Point\n",
    "import matplotlib.pyplot as plt"
   ]
  },
  {
   "cell_type": "code",
   "execution_count": 55,
   "metadata": {},
   "outputs": [],
   "source": [
    "signs = pd.read_csv(\"../assets/street_signs.csv\", sep=\",\", header=0)"
   ]
  },
  {
   "cell_type": "code",
   "execution_count": 53,
   "metadata": {},
   "outputs": [
    {
     "name": "stdout",
     "output_type": "stream",
     "text": [
      "         _id          id       mutcd_code address_number          street  \\\n",
      "1          2   668379452             R1-1            107     Glenbury St   \n",
      "2          3   174468442             R1-1           5325      Forbes Ave   \n",
      "3          4  1517107112             R1-1           1437   N St Clair St   \n",
      "9         10   565974481             R1-1           1434   N St Clair St   \n",
      "93        94  1246892262             R1-1            304       Albert St   \n",
      "...      ...         ...              ...            ...             ...   \n",
      "74694  76702   903398770                2            NaN    Arlington Ct   \n",
      "74695  76703   282441768                2            NaN    Arlington Ct   \n",
      "74699  76707  1047446031  W11-2 (Diamond)           2755  Beechwood Blvd   \n",
      "74705  76713   201206781                2            715     E Carson St   \n",
      "74709  76717  1561469039                2            727     E Carson St   \n",
      "\n",
      "             city mounting_fixture date_installed         description  \\\n",
      "1      Pittsburgh          Channel            NaN                Stop   \n",
      "2      Pittsburgh        Wood Pole            NaN                Stop   \n",
      "3      Pittsburgh          Channel            NaN                Stop   \n",
      "9      Pittsburgh        Wood Pole            NaN                Stop   \n",
      "93     Pittsburgh          Channel            NaN                Stop   \n",
      "...           ...              ...            ...                 ...   \n",
      "74694  Pittsburgh        Wood Pole            NaN  No Parking Anytime   \n",
      "74695  Pittsburgh        Wood Pole            NaN  No Parking Anytime   \n",
      "74699  Pittsburgh          Channel            NaN          Pedestrian   \n",
      "74705  Pittsburgh       Metal Pole            NaN  No Parking Anytime   \n",
      "74709  Pittsburgh          Channel            NaN  No Parking Anytime   \n",
      "\n",
      "              neighborhood  council_district  ward         tract  \\\n",
      "1                Overbrook               4.0  32.0  4.200332e+10   \n",
      "2      Squirrel Hill North               8.0  14.0  4.200314e+10   \n",
      "3            Highland Park               7.0  11.0  4.200311e+10   \n",
      "9            Highland Park               7.0  11.0  4.200311e+10   \n",
      "93        Mount Washington               2.0  19.0  4.200319e+10   \n",
      "...                    ...               ...   ...           ...   \n",
      "74694    South Side Slopes               3.0  17.0  4.200317e+10   \n",
      "74695    South Side Slopes               3.0  17.0  4.200317e+10   \n",
      "74699  Squirrel Hill South               5.0  14.0  4.200314e+10   \n",
      "74705     South Side Flats               3.0  17.0  4.200317e+10   \n",
      "74709     South Side Flats               3.0  17.0  4.200317e+10   \n",
      "\n",
      "       public_works_division  pli_division  police_zone fire_zone   latitude  \\\n",
      "1                        5.0          32.0          3.0      4-25  40.386955   \n",
      "2                        3.0          14.0          4.0       2-8  40.439828   \n",
      "3                        2.0          11.0          5.0       3-9  40.478685   \n",
      "9                        2.0          11.0          5.0       3-9  40.478543   \n",
      "93                       5.0          19.0          3.0      4-27  40.422685   \n",
      "...                      ...           ...          ...       ...        ...   \n",
      "74694                    3.0          17.0          3.0       4-6  40.417907   \n",
      "74695                    3.0          17.0          3.0       4-6  40.417930   \n",
      "74699                    3.0          14.0          4.0      2-21  40.426223   \n",
      "74705                    3.0          17.0          3.0       4-2  40.428680   \n",
      "74709                    3.0          17.0          3.0       4-2  40.428701   \n",
      "\n",
      "       longitude  \n",
      "1     -80.002161  \n",
      "2     -79.934814  \n",
      "3     -79.919270  \n",
      "9     -79.919190  \n",
      "93    -80.007594  \n",
      "...          ...  \n",
      "74694 -79.985394  \n",
      "74695 -79.985482  \n",
      "74699 -79.919151  \n",
      "74705 -79.991682  \n",
      "74709 -79.991235  \n",
      "\n",
      "[9010 rows x 19 columns]\n"
     ]
    }
   ],
   "source": [
    "specific_signs = ['Stop', 'Yield', 'No Parking Anytime', 'Do Not Enter', 'One Way', 'Pedestrian', 'Traffic Signal Ahead', 'Bike Lane']\n",
    "specific_neighborhoods = ['Central Oakland', 'Stanton Heights', 'Overbrook', 'Highland Park', 'Bloomfield', 'Squirrel Hill North', 'Garfield', 'South Side Flats', 'Mount Washington', 'South Side Slopes', 'Upper Hill', 'Homewood South', 'Brookline', 'Perry North', 'Polish Hill', 'North Oakland', 'Carrick', 'Squirrel Hill South']\n",
    "filtered_signs = signs[signs['description'].isin(specific_signs)]\n",
    "filtered_data = filtered_signs[filtered_signs['neighborhood'].isin(specific_neighborhoods)]\n",
    "print(filtered_data)"
   ]
  },
  {
   "cell_type": "code",
   "execution_count": 41,
   "metadata": {},
   "outputs": [
    {
     "name": "stdout",
     "output_type": "stream",
     "text": [
      "neighborhood\n",
      "Polish Hill             39\n",
      "North Oakland           47\n",
      "Upper Hill              53\n",
      "Central Oakland         70\n",
      "Perry North             85\n",
      "Garfield               118\n",
      "Stanton Heights        125\n",
      "Homewood South         129\n",
      "Overbrook              131\n",
      "South Side Slopes      136\n",
      "Squirrel Hill North    171\n",
      "Mount Washington       189\n",
      "Bloomfield             200\n",
      "Highland Park          227\n",
      "Squirrel Hill South    257\n",
      "South Side Flats       292\n",
      "Carrick                312\n",
      "Brookline              349\n",
      "dtype: int64\n"
     ]
    }
   ],
   "source": [
    "neighborhood_stops = filtered_data[filtered_data['description'] == 'Stop'].groupby('neighborhood').size().sort_values(ascending=True)\n",
    "print(neighborhood_stops)"
   ]
  },
  {
   "cell_type": "code",
   "execution_count": 42,
   "metadata": {},
   "outputs": [
    {
     "name": "stdout",
     "output_type": "stream",
     "text": [
      "neighborhood\n",
      "Central Oakland         1\n",
      "North Oakland           1\n",
      "Perry North             1\n",
      "South Side Slopes       1\n",
      "Squirrel Hill North     1\n",
      "Stanton Heights         1\n",
      "Brookline               2\n",
      "Bloomfield              3\n",
      "Mount Washington        5\n",
      "South Side Flats        5\n",
      "Highland Park          10\n",
      "Squirrel Hill South    16\n",
      "dtype: int64\n"
     ]
    }
   ],
   "source": [
    "print(filtered_data[filtered_data['description'] == 'Yield'].groupby('neighborhood').size().sort_values(ascending=True))"
   ]
  },
  {
   "cell_type": "code",
   "execution_count": 43,
   "metadata": {},
   "outputs": [
    {
     "name": "stdout",
     "output_type": "stream",
     "text": [
      "neighborhood\n",
      "Overbrook               3\n",
      "Upper Hill              4\n",
      "Stanton Heights         5\n",
      "Central Oakland         7\n",
      "Homewood South          7\n",
      "Garfield               11\n",
      "Highland Park          12\n",
      "South Side Slopes      16\n",
      "Polish Hill            17\n",
      "Brookline              19\n",
      "Perry North            20\n",
      "North Oakland          25\n",
      "Squirrel Hill North    27\n",
      "Mount Washington       28\n",
      "Carrick                32\n",
      "Bloomfield             40\n",
      "South Side Flats       43\n",
      "Squirrel Hill South    62\n",
      "dtype: int64\n"
     ]
    }
   ],
   "source": [
    "print(filtered_data[filtered_data['description'] == 'Pedestrian'].groupby('neighborhood').size().sort_values(ascending=True))"
   ]
  },
  {
   "cell_type": "code",
   "execution_count": 44,
   "metadata": {},
   "outputs": [
    {
     "name": "stdout",
     "output_type": "stream",
     "text": [
      "neighborhood\n",
      "Brookline              1\n",
      "Carrick                1\n",
      "Central Oakland        1\n",
      "South Side Slopes      1\n",
      "Polish Hill            1\n",
      "Bloomfield             2\n",
      "Mount Washington       2\n",
      "Squirrel Hill North    2\n",
      "Overbrook              3\n",
      "Squirrel Hill South    8\n",
      "dtype: int64\n"
     ]
    }
   ],
   "source": [
    "print(filtered_data[filtered_data['description'] == 'Traffic Signal Ahead'].groupby('neighborhood').size().sort_values(ascending=True))"
   ]
  },
  {
   "cell_type": "code",
   "execution_count": 45,
   "metadata": {},
   "outputs": [
    {
     "name": "stdout",
     "output_type": "stream",
     "text": [
      "neighborhood\n",
      "Squirrel Hill North    1\n",
      "Bloomfield             2\n",
      "Highland Park          2\n",
      "Garfield               2\n",
      "Perry North            3\n",
      "North Oakland          5\n",
      "Squirrel Hill South    5\n",
      "dtype: int64\n"
     ]
    }
   ],
   "source": [
    "print(filtered_data[filtered_data['description'] == 'Bike Lane'].groupby('neighborhood').size().sort_values(ascending=True))"
   ]
  },
  {
   "cell_type": "code",
   "execution_count": 46,
   "metadata": {},
   "outputs": [
    {
     "name": "stdout",
     "output_type": "stream",
     "text": [
      "neighborhood\n",
      "Polish Hill             4\n",
      "Upper Hill              5\n",
      "Stanton Heights         6\n",
      "Squirrel Hill North     7\n",
      "Overbrook               8\n",
      "Garfield               10\n",
      "South Side Slopes      12\n",
      "Carrick                12\n",
      "Highland Park          15\n",
      "Mount Washington       20\n",
      "Perry North            22\n",
      "North Oakland          22\n",
      "Homewood South         23\n",
      "Brookline              26\n",
      "Central Oakland        29\n",
      "Squirrel Hill South    41\n",
      "South Side Flats       73\n",
      "Bloomfield             83\n",
      "dtype: int64\n"
     ]
    }
   ],
   "source": [
    "print(filtered_data[filtered_data['description'] == 'Do Not Enter'].groupby('neighborhood').size().sort_values(ascending=True))"
   ]
  },
  {
   "cell_type": "code",
   "execution_count": 52,
   "metadata": {},
   "outputs": [
    {
     "name": "stdout",
     "output_type": "stream",
     "text": [
      "neighborhood\n",
      "Polish Hill             114\n",
      "Upper Hill              179\n",
      "Stanton Heights         207\n",
      "Overbrook               231\n",
      "Garfield                236\n",
      "Perry North             274\n",
      "Homewood South          298\n",
      "Highland Park           385\n",
      "Central Oakland         389\n",
      "South Side Slopes       405\n",
      "North Oakland           481\n",
      "Mount Washington        576\n",
      "Squirrel Hill North     626\n",
      "Carrick                 680\n",
      "Brookline               773\n",
      "Squirrel Hill South     934\n",
      "Bloomfield             1049\n",
      "South Side Flats       1174\n",
      "dtype: int64\n"
     ]
    }
   ],
   "source": [
    "print(filtered_data.groupby('neighborhood').size().sort_values(ascending=True))"
   ]
  },
  {
   "cell_type": "code",
   "execution_count": null,
   "metadata": {},
   "outputs": [],
   "source": []
  }
 ],
 "metadata": {
  "kernelspec": {
   "display_name": "Python 3",
   "language": "python",
   "name": "python3"
  },
  "language_info": {
   "codemirror_mode": {
    "name": "ipython",
    "version": 3
   },
   "file_extension": ".py",
   "mimetype": "text/x-python",
   "name": "python",
   "nbconvert_exporter": "python",
   "pygments_lexer": "ipython3",
   "version": "3.11.6"
  }
 },
 "nbformat": 4,
 "nbformat_minor": 2
}
